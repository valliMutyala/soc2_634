{
 "cells": [
  {
   "cell_type": "code",
   "execution_count": 2,
   "id": "13534554",
   "metadata": {
    "scrolled": true
   },
   "outputs": [],
   "source": [
    "import numpy as np\n",
    "ar1=np.arange(13)"
   ]
  },
  {
   "cell_type": "code",
   "execution_count": 4,
   "id": "ac47d615",
   "metadata": {},
   "outputs": [
    {
     "data": {
      "text/plain": [
       "13"
      ]
     },
     "execution_count": 4,
     "metadata": {},
     "output_type": "execute_result"
    }
   ],
   "source": [
    "ar1\n",
    "len(ar1)"
   ]
  },
  {
   "cell_type": "code",
   "execution_count": 10,
   "id": "99a18da7",
   "metadata": {},
   "outputs": [
    {
     "data": {
      "text/plain": [
       "array([[ 0,  1,  2,  3,  4,  5,  6,  7,  8,  9, 10, 11, 12]])"
      ]
     },
     "execution_count": 10,
     "metadata": {},
     "output_type": "execute_result"
    }
   ],
   "source": [
    "reshpd_array=ar1.reshape(1,13)\n",
    "reshpd_array"
   ]
  },
  {
   "cell_type": "raw",
   "id": "37021958",
   "metadata": {},
   "source": []
  },
  {
   "cell_type": "code",
   "execution_count": 7,
   "id": "2d27d741",
   "metadata": {},
   "outputs": [
    {
     "data": {
      "text/plain": [
       "array([[1., 0., 0., 0.],\n",
       "       [0., 1., 0., 0.],\n",
       "       [0., 0., 1., 0.]])"
      ]
     },
     "execution_count": 7,
     "metadata": {},
     "output_type": "execute_result"
    }
   ],
   "source": [
    "#identity matrix can be created using 2 functions\n",
    "#eye()->used to define both user defined rows and colimns\n",
    "#identity()->used to define same no.of rows and colums\n",
    "#syntax->np.eye(3,4) 3 rows,4 columns\n",
    "#syntax->np.identity(5) 5 rows 5 columns\n",
    "np.eye(3,4)"
   ]
  },
  {
   "cell_type": "code",
   "execution_count": 8,
   "id": "64bc25b3",
   "metadata": {},
   "outputs": [
    {
     "data": {
      "text/plain": [
       "array([[1., 0., 0., 0., 0.],\n",
       "       [0., 1., 0., 0., 0.],\n",
       "       [0., 0., 1., 0., 0.],\n",
       "       [0., 0., 0., 1., 0.],\n",
       "       [0., 0., 0., 0., 1.]])"
      ]
     },
     "execution_count": 8,
     "metadata": {},
     "output_type": "execute_result"
    }
   ],
   "source": [
    "np.identity(5)"
   ]
  },
  {
   "cell_type": "code",
   "execution_count": 9,
   "id": "e8bc166f",
   "metadata": {},
   "outputs": [
    {
     "data": {
      "text/plain": [
       "array([[1.+0.j, 0.+0.j, 0.+0.j, 0.+0.j, 0.+0.j],\n",
       "       [0.+0.j, 1.+0.j, 0.+0.j, 0.+0.j, 0.+0.j],\n",
       "       [0.+0.j, 0.+0.j, 1.+0.j, 0.+0.j, 0.+0.j],\n",
       "       [0.+0.j, 0.+0.j, 0.+0.j, 1.+0.j, 0.+0.j],\n",
       "       [0.+0.j, 0.+0.j, 0.+0.j, 0.+0.j, 1.+0.j]])"
      ]
     },
     "execution_count": 9,
     "metadata": {},
     "output_type": "execute_result"
    }
   ],
   "source": [
    "np.identity(5,dtype=complex)"
   ]
  },
  {
   "cell_type": "code",
   "execution_count": 11,
   "id": "1714384e",
   "metadata": {},
   "outputs": [],
   "source": [
    "ar2=np.arange(25)"
   ]
  },
  {
   "cell_type": "code",
   "execution_count": 12,
   "id": "7c49313c",
   "metadata": {},
   "outputs": [
    {
     "data": {
      "text/plain": [
       "array([ 0,  1,  2,  3,  4,  5,  6,  7,  8,  9, 10, 11, 12, 13, 14, 15, 16,\n",
       "       17, 18, 19, 20, 21, 22, 23, 24])"
      ]
     },
     "execution_count": 12,
     "metadata": {},
     "output_type": "execute_result"
    }
   ],
   "source": [
    "ar2\n"
   ]
  },
  {
   "cell_type": "code",
   "execution_count": 16,
   "id": "7e400e1f",
   "metadata": {},
   "outputs": [
    {
     "data": {
      "text/plain": [
       "array([[ 0,  1,  2,  3,  4],\n",
       "       [ 5,  6,  7,  8,  9],\n",
       "       [10, 11, 12, 13, 14],\n",
       "       [15, 16, 17, 18, 19],\n",
       "       [20, 21, 22, 23, 24]])"
      ]
     },
     "execution_count": 16,
     "metadata": {},
     "output_type": "execute_result"
    }
   ],
   "source": [
    "#to perform multidimensional slicing\n",
    "ar2=np.arange(25).reshape(5,5)\n",
    "ar2"
   ]
  },
  {
   "cell_type": "code",
   "execution_count": 18,
   "id": "f2cd6441",
   "metadata": {},
   "outputs": [
    {
     "data": {
      "text/plain": [
       "(5, 5)"
      ]
     },
     "execution_count": 18,
     "metadata": {},
     "output_type": "execute_result"
    }
   ],
   "source": [
    "ar2.shape\n"
   ]
  },
  {
   "cell_type": "code",
   "execution_count": 20,
   "id": "eeefaecc",
   "metadata": {},
   "outputs": [
    {
     "data": {
      "text/plain": [
       "array([[ 0,  1,  2,  3,  4],\n",
       "       [ 5,  6,  7,  8,  9],\n",
       "       [10, 11, 12, 13, 14],\n",
       "       [15, 16, 17, 18, 19]])"
      ]
     },
     "execution_count": 20,
     "metadata": {},
     "output_type": "execute_result"
    }
   ],
   "source": [
    "#ar2[rows:step,columns:step]\n",
    "#arr[row_start:row_end,column_start:column_end]\n",
    "ar2[0:4]"
   ]
  },
  {
   "cell_type": "code",
   "execution_count": 24,
   "id": "c73029f9",
   "metadata": {},
   "outputs": [
    {
     "data": {
      "text/plain": [
       "array([[ 1,  2,  3],\n",
       "       [ 6,  7,  8],\n",
       "       [11, 12, 13]])"
      ]
     },
     "execution_count": 24,
     "metadata": {},
     "output_type": "execute_result"
    }
   ],
   "source": [
    "ar2[0:3,1:4]"
   ]
  },
  {
   "cell_type": "code",
   "execution_count": 30,
   "id": "587751eb",
   "metadata": {},
   "outputs": [
    {
     "data": {
      "text/plain": [
       "array([[12, 13],\n",
       "       [17, 18]])"
      ]
     },
     "execution_count": 30,
     "metadata": {},
     "output_type": "execute_result"
    }
   ],
   "source": [
    "ar2[-3:-1,-3:-1]"
   ]
  },
  {
   "cell_type": "code",
   "execution_count": 32,
   "id": "ed992321",
   "metadata": {},
   "outputs": [
    {
     "data": {
      "text/plain": [
       "array([[ 0,  1,  2,  3,  4,  5,  6,  7,  8,  9],\n",
       "       [10, 11, 12, 13, 14, 15, 16, 17, 18, 19],\n",
       "       [20, 21, 22, 23, 24, 25, 26, 27, 28, 29],\n",
       "       [30, 31, 32, 33, 34, 35, 36, 37, 38, 39],\n",
       "       [40, 41, 42, 43, 44, 45, 46, 47, 48, 49]])"
      ]
     },
     "execution_count": 32,
     "metadata": {},
     "output_type": "execute_result"
    }
   ],
   "source": [
    "ar3=np.arange(50).reshape(5,10)\n",
    "ar3"
   ]
  },
  {
   "cell_type": "code",
   "execution_count": 33,
   "id": "eedd51c8",
   "metadata": {},
   "outputs": [
    {
     "data": {
      "text/plain": [
       "1225"
      ]
     },
     "execution_count": 33,
     "metadata": {},
     "output_type": "execute_result"
    }
   ],
   "source": [
    "#linshape\n",
    "np.sum(ar3)"
   ]
  },
  {
   "cell_type": "code",
   "execution_count": 35,
   "id": "39a332c8",
   "metadata": {},
   "outputs": [
    {
     "data": {
      "text/plain": [
       "array([100, 105, 110, 115, 120, 125, 130, 135, 140, 145])"
      ]
     },
     "execution_count": 35,
     "metadata": {},
     "output_type": "execute_result"
    }
   ],
   "source": [
    "ar3.sum(axis=0)#to add based on column wise"
   ]
  },
  {
   "cell_type": "code",
   "execution_count": 80,
   "id": "59af317e",
   "metadata": {},
   "outputs": [
    {
     "data": {
      "text/plain": [
       "array([ 45, 145, 245, 345, 445])"
      ]
     },
     "execution_count": 80,
     "metadata": {},
     "output_type": "execute_result"
    }
   ],
   "source": [
    "np.sum(ar3,axis=1)#to add based on row wise"
   ]
  },
  {
   "cell_type": "code",
   "execution_count": 38,
   "id": "7e54e40d",
   "metadata": {},
   "outputs": [
    {
     "data": {
      "text/plain": [
       "0"
      ]
     },
     "execution_count": 38,
     "metadata": {},
     "output_type": "execute_result"
    }
   ],
   "source": [
    "np.product(ar3)"
   ]
  },
  {
   "cell_type": "code",
   "execution_count": 39,
   "id": "f361ea42",
   "metadata": {},
   "outputs": [],
   "source": [
    "#mean->average\n",
    "#median->middle value\n",
    "#mode->repeated value\n",
    "#variance->median/total no.of elements\n",
    "#std->sqrt of variance"
   ]
  },
  {
   "cell_type": "code",
   "execution_count": 40,
   "id": "fa8f01e2",
   "metadata": {},
   "outputs": [
    {
     "data": {
      "text/plain": [
       "array([ 1. ,  5.5, 10. ])"
      ]
     },
     "execution_count": 40,
     "metadata": {},
     "output_type": "execute_result"
    }
   ],
   "source": [
    "#linspace\n",
    "#it is used to print evenly seperated pointed \n",
    "#between 2 range of values\n",
    "#linsapce(start,end,no.of parts)\n",
    "np.linspace(1,10,3)"
   ]
  },
  {
   "cell_type": "code",
   "execution_count": 41,
   "id": "92d50d02",
   "metadata": {},
   "outputs": [
    {
     "data": {
      "text/plain": [
       "array([ 1,  5, 10])"
      ]
     },
     "execution_count": 41,
     "metadata": {},
     "output_type": "execute_result"
    }
   ],
   "source": [
    "np.linspace(1,10,3,dtype=int)"
   ]
  },
  {
   "cell_type": "code",
   "execution_count": 43,
   "id": "5118ea21",
   "metadata": {},
   "outputs": [
    {
     "data": {
      "text/plain": [
       "(array([ 1. ,  5.5, 10. ]), 4.5)"
      ]
     },
     "execution_count": 43,
     "metadata": {},
     "output_type": "execute_result"
    }
   ],
   "source": [
    "np.linspace(1,10,3,retstep=True)"
   ]
  },
  {
   "cell_type": "code",
   "execution_count": 45,
   "id": "48698693",
   "metadata": {},
   "outputs": [
    {
     "data": {
      "text/plain": [
       "34"
      ]
     },
     "execution_count": 45,
     "metadata": {},
     "output_type": "execute_result"
    }
   ],
   "source": [
    "#random module\n",
    "#to generate random number between the range\n",
    "#np.random.randint(start,end)\n",
    "np.random.randint(33,40)"
   ]
  },
  {
   "cell_type": "code",
   "execution_count": 46,
   "id": "c034b5c7",
   "metadata": {},
   "outputs": [
    {
     "data": {
      "text/plain": [
       "15"
      ]
     },
     "execution_count": 46,
     "metadata": {},
     "output_type": "execute_result"
    }
   ],
   "source": [
    "np.random.randint(40)"
   ]
  },
  {
   "cell_type": "code",
   "execution_count": 47,
   "id": "ac9d5562",
   "metadata": {},
   "outputs": [
    {
     "data": {
      "text/plain": [
       "array([26, 12, 25, 25, 37])"
      ]
     },
     "execution_count": 47,
     "metadata": {},
     "output_type": "execute_result"
    }
   ],
   "source": [
    "np.random.randint(1,40,5)"
   ]
  },
  {
   "cell_type": "code",
   "execution_count": 48,
   "id": "5371d706",
   "metadata": {},
   "outputs": [
    {
     "data": {
      "text/plain": [
       "array([0.66458454, 0.9559784 , 0.01375653, 0.09966423])"
      ]
     },
     "execution_count": 48,
     "metadata": {},
     "output_type": "execute_result"
    }
   ],
   "source": [
    "# rand()\n",
    "# to get randomly generated values from 0 to 1 based on uniform distribution\n",
    "np.random.rand(4)"
   ]
  },
  {
   "cell_type": "code",
   "execution_count": 49,
   "id": "fa884c8d",
   "metadata": {},
   "outputs": [
    {
     "data": {
      "text/plain": [
       "array([-1.27052842,  0.11556954,  0.04948889,  1.8810758 , -0.51008218])"
      ]
     },
     "execution_count": 49,
     "metadata": {},
     "output_type": "execute_result"
    }
   ],
   "source": [
    "# randn()\n",
    "# to get randomly generated values from 0 to 1 based on normalized distribution\n",
    "np.random.randn(5)"
   ]
  },
  {
   "cell_type": "code",
   "execution_count": 51,
   "id": "296cb4f1",
   "metadata": {},
   "outputs": [
    {
     "data": {
      "text/plain": [
       "array([[ 0.04577448,  0.47879798, -0.21949395,  0.40719152],\n",
       "       [ 0.06714588, -0.11777682,  0.04159087, -1.30116967],\n",
       "       [-0.58075158, -0.00417807,  0.50392198, -1.24426819],\n",
       "       [ 1.8546837 ,  0.86434219,  1.33616824,  0.07490408],\n",
       "       [ 0.24297329, -1.05938468,  0.31799284, -0.26944804]])"
      ]
     },
     "execution_count": 51,
     "metadata": {},
     "output_type": "execute_result"
    }
   ],
   "source": [
    "np.random.randn(5,4)"
   ]
  },
  {
   "cell_type": "code",
   "execution_count": 52,
   "id": "e3e15e8e",
   "metadata": {},
   "outputs": [
    {
     "data": {
      "text/plain": [
       "0"
      ]
     },
     "execution_count": 52,
     "metadata": {},
     "output_type": "execute_result"
    }
   ],
   "source": [
    "ar3.min()"
   ]
  },
  {
   "cell_type": "code",
   "execution_count": 53,
   "id": "b4f1a331",
   "metadata": {},
   "outputs": [
    {
     "data": {
      "text/plain": [
       "49"
      ]
     },
     "execution_count": 53,
     "metadata": {},
     "output_type": "execute_result"
    }
   ],
   "source": [
    "ar3.max()"
   ]
  },
  {
   "cell_type": "code",
   "execution_count": 54,
   "id": "11af92e0",
   "metadata": {},
   "outputs": [
    {
     "name": "stdout",
     "output_type": "stream",
     "text": [
      "49\n"
     ]
    }
   ],
   "source": [
    "print(ar3.argmax())"
   ]
  },
  {
   "cell_type": "code",
   "execution_count": 56,
   "id": "59471ded",
   "metadata": {},
   "outputs": [
    {
     "name": "stdout",
     "output_type": "stream",
     "text": [
      "1\n",
      "2\n"
     ]
    }
   ],
   "source": [
    "l1=[11,3,67,34,43]\n",
    "np1=np.array(l1)\n",
    "#to find the min value index pos in an array\n",
    "print(np1.argmin())\n",
    "#to find the max value index pos in an array\n",
    "print(np1.argmax())"
   ]
  },
  {
   "cell_type": "code",
   "execution_count": 57,
   "id": "24633f74",
   "metadata": {},
   "outputs": [
    {
     "data": {
      "text/plain": [
       "array([11,  3, 67, 34, 43])"
      ]
     },
     "execution_count": 57,
     "metadata": {},
     "output_type": "execute_result"
    }
   ],
   "source": [
    "np1"
   ]
  },
  {
   "cell_type": "code",
   "execution_count": 59,
   "id": "f30cf03a",
   "metadata": {},
   "outputs": [
    {
     "data": {
      "text/plain": [
       "array([-0.99999021,  0.14112001, -0.85551998,  0.52908269, -0.83177474])"
      ]
     },
     "execution_count": 59,
     "metadata": {},
     "output_type": "execute_result"
    }
   ],
   "source": [
    "np.sin(np1)\n"
   ]
  },
  {
   "cell_type": "code",
   "execution_count": 61,
   "id": "06d0ce99",
   "metadata": {},
   "outputs": [
    {
     "data": {
      "text/plain": [
       "array([ 0.0044257 , -0.9899925 , -0.5177698 , -0.84857027,  0.5551133 ])"
      ]
     },
     "execution_count": 61,
     "metadata": {},
     "output_type": "execute_result"
    }
   ],
   "source": [
    "np.cos(np1)"
   ]
  },
  {
   "cell_type": "code",
   "execution_count": 62,
   "id": "0dd58ece",
   "metadata": {},
   "outputs": [
    {
     "data": {
      "text/plain": [
       "array([-2.25950846e+02, -1.42546543e-01,  1.65231726e+00, -6.23498963e-01,\n",
       "       -1.49838734e+00])"
      ]
     },
     "execution_count": 62,
     "metadata": {},
     "output_type": "execute_result"
    }
   ],
   "source": [
    "np.tan(np1)"
   ]
  },
  {
   "cell_type": "code",
   "execution_count": 63,
   "id": "9eef28a8",
   "metadata": {},
   "outputs": [
    {
     "data": {
      "text/plain": [
       "array([-2.25950846e+02, -1.42546543e-01,  1.65231726e+00, -6.23498963e-01,\n",
       "       -1.49838734e+00])"
      ]
     },
     "execution_count": 63,
     "metadata": {},
     "output_type": "execute_result"
    }
   ],
   "source": [
    "np.sin(np1)/np.cos(np1)"
   ]
  },
  {
   "cell_type": "code",
   "execution_count": 76,
   "id": "771dccef",
   "metadata": {},
   "outputs": [
    {
     "data": {
      "text/plain": [
       "array([ 4, 10, 18])"
      ]
     },
     "execution_count": 76,
     "metadata": {},
     "output_type": "execute_result"
    }
   ],
   "source": [
    "np2=np.array([1,2,3,])\n",
    "np3=np.array([4,5,6])\n",
    "#(1*4)+(2*5)*(3*6)=4+10+18=32\n",
    "np4=np2*np3\n",
    "np.array(np4)"
   ]
  },
  {
   "cell_type": "code",
   "execution_count": 81,
   "id": "581f37cc",
   "metadata": {},
   "outputs": [
    {
     "data": {
      "text/plain": [
       "32"
      ]
     },
     "execution_count": 81,
     "metadata": {},
     "output_type": "execute_result"
    }
   ],
   "source": [
    "np.sum(np4)"
   ]
  },
  {
   "cell_type": "code",
   "execution_count": 83,
   "id": "cf20c2c6",
   "metadata": {},
   "outputs": [],
   "source": [
    "fname=np.array([\"sid\",\"fn1\",\"fn2\"])\n",
    "lname=np.array([\"sid\",\"ln1\",\"ln2\"])\n",
    "#fname.tostring()"
   ]
  },
  {
   "cell_type": "code",
   "execution_count": 7,
   "id": "5371d10f",
   "metadata": {},
   "outputs": [
    {
     "data": {
      "text/plain": [
       "43"
      ]
     },
     "execution_count": 7,
     "metadata": {},
     "output_type": "execute_result"
    }
   ],
   "source": [
    "import numpy as np\n",
    "np2=np.array([1,2,3,4,7])\n",
    "np3=np.array([4,5,6])\n",
    "len1=len(np2)\n",
    "len2=len(np3)\n",
    "diff=abs(len1-len2)\n",
    "for val in range(diff):\n",
    "    np3=np.append(np3,1)\n",
    "np.sum(np2*np3)"
   ]
  },
  {
   "cell_type": "code",
   "execution_count": 8,
   "id": "7d840bfc",
   "metadata": {},
   "outputs": [],
   "source": [
    "np1=np.array([1,2,3,4,7,np.nan,np.nan])"
   ]
  },
  {
   "cell_type": "code",
   "execution_count": 9,
   "id": "f4d182f3",
   "metadata": {},
   "outputs": [
    {
     "data": {
      "text/plain": [
       "array([nan, nan])"
      ]
     },
     "execution_count": 9,
     "metadata": {},
     "output_type": "execute_result"
    }
   ],
   "source": [
    "#to print nan values\n",
    "np1[np.isnan(np1)]"
   ]
  },
  {
   "cell_type": "code",
   "execution_count": 11,
   "id": "ec190ded",
   "metadata": {},
   "outputs": [
    {
     "data": {
      "text/plain": [
       "array([1., 2., 3., 4., 7.])"
      ]
     },
     "execution_count": 11,
     "metadata": {},
     "output_type": "execute_result"
    }
   ],
   "source": [
    "#to eleminate nan values\n",
    "np1[~np.isnan(np1)]"
   ]
  },
  {
   "cell_type": "code",
   "execution_count": null,
   "id": "c4ed3ab4",
   "metadata": {},
   "outputs": [],
   "source": []
  }
 ],
 "metadata": {
  "kernelspec": {
   "display_name": "Python 3 (ipykernel)",
   "language": "python",
   "name": "python3"
  },
  "language_info": {
   "codemirror_mode": {
    "name": "ipython",
    "version": 3
   },
   "file_extension": ".py",
   "mimetype": "text/x-python",
   "name": "python",
   "nbconvert_exporter": "python",
   "pygments_lexer": "ipython3",
   "version": "3.11.5"
  }
 },
 "nbformat": 4,
 "nbformat_minor": 5
}
