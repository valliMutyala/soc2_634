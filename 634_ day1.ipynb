{
 "cells": [
  {
   "cell_type": "code",
   "execution_count": null,
   "id": "0c93c7a7",
   "metadata": {},
   "outputs": [],
   "source": [
    "\n",
    "\n"
   ]
  },
  {
   "cell_type": "code",
   "execution_count": null,
   "id": "2a17b3da",
   "metadata": {},
   "outputs": [],
   "source": []
  },
  {
   "cell_type": "code",
   "execution_count": 8,
   "id": "6427b1e4",
   "metadata": {},
   "outputs": [],
   "source": [
    "import numpy\n",
    "l1=[1,2,3,4,5]\n",
    "s={5,6,7,8,9}\n",
    "d=(1,3,5,7,)\n",
    "arr=numpy.array(l1)\n",
    "arr2=numpy.array(s)\n",
    "arr3=numpy.array(d)"
   ]
  },
  {
   "cell_type": "code",
   "execution_count": 5,
   "id": "ada66266",
   "metadata": {},
   "outputs": [
    {
     "data": {
      "text/plain": [
       "array([1, 2, 3, 4, 5])"
      ]
     },
     "execution_count": 5,
     "metadata": {},
     "output_type": "execute_result"
    }
   ],
   "source": [
    "arr"
   ]
  },
  {
   "cell_type": "code",
   "execution_count": 6,
   "id": "a0b9aee8",
   "metadata": {},
   "outputs": [
    {
     "data": {
      "text/plain": [
       "array({5, 6, 7, 8, 9}, dtype=object)"
      ]
     },
     "execution_count": 6,
     "metadata": {},
     "output_type": "execute_result"
    }
   ],
   "source": [
    "arr2"
   ]
  },
  {
   "cell_type": "code",
   "execution_count": 7,
   "id": "33b74a72",
   "metadata": {},
   "outputs": [
    {
     "data": {
      "text/plain": [
       "array([1, 3, 5, 7])"
      ]
     },
     "execution_count": 7,
     "metadata": {},
     "output_type": "execute_result"
    }
   ],
   "source": [
    "arr3"
   ]
  },
  {
   "cell_type": "code",
   "execution_count": 14,
   "id": "8983ee00",
   "metadata": {},
   "outputs": [
    {
     "name": "stdout",
     "output_type": "stream",
     "text": [
      "sindhu\n",
      "20\n"
     ]
    }
   ],
   "source": [
    "class c1:\n",
    "  name=\"sindhu\"\n",
    "  age=20\n",
    "\n",
    "obj=c1()\n",
    "print(obj.name)\n",
    "print(obj.age)\n"
   ]
  },
  {
   "cell_type": "code",
   "execution_count": 13,
   "id": "b939029c",
   "metadata": {},
   "outputs": [
    {
     "ename": "TypeError",
     "evalue": "unhashable type: 'list'",
     "output_type": "error",
     "traceback": [
      "\u001b[1;31m---------------------------------------------------------------------------\u001b[0m",
      "\u001b[1;31mTypeError\u001b[0m                                 Traceback (most recent call last)",
      "Cell \u001b[1;32mIn[13], line 1\u001b[0m\n\u001b[1;32m----> 1\u001b[0m s1\u001b[38;5;241m=\u001b[39m{\u001b[38;5;241m1\u001b[39m,\u001b[38;5;241m2\u001b[39m,\u001b[38;5;241m3\u001b[39m,[\u001b[38;5;241m2\u001b[39m,\u001b[38;5;241m3\u001b[39m,\u001b[38;5;241m4\u001b[39m]}\n\u001b[0;32m      2\u001b[0m \u001b[38;5;28mprint\u001b[39m(s1)\n",
      "\u001b[1;31mTypeError\u001b[0m: unhashable type: 'list'"
     ]
    }
   ],
   "source": [
    "s1={1,2,3,[2,3,4]}\n",
    "print(s1)"
   ]
  },
  {
   "cell_type": "code",
   "execution_count": 16,
   "id": "57ad95c7",
   "metadata": {},
   "outputs": [
    {
     "data": {
      "text/plain": [
       "array('hello', dtype='<U5')"
      ]
     },
     "execution_count": 16,
     "metadata": {},
     "output_type": "execute_result"
    }
   ],
   "source": [
    "t1=\"hello\"\n",
    "ar1=numpy.array(t1)\n",
    "ar1"
   ]
  },
  {
   "cell_type": "code",
   "execution_count": 17,
   "id": "bbba0b98",
   "metadata": {},
   "outputs": [
    {
     "data": {
      "text/plain": [
       "dtype('<U5')"
      ]
     },
     "execution_count": 17,
     "metadata": {},
     "output_type": "execute_result"
    }
   ],
   "source": [
    "ar1.dtype"
   ]
  },
  {
   "cell_type": "code",
   "execution_count": 18,
   "id": "d7d77ba0",
   "metadata": {},
   "outputs": [
    {
     "data": {
      "text/plain": [
       "numpy.ndarray"
      ]
     },
     "execution_count": 18,
     "metadata": {},
     "output_type": "execute_result"
    }
   ],
   "source": [
    "type(arr)"
   ]
  },
  {
   "cell_type": "code",
   "execution_count": 19,
   "id": "7b9f263c",
   "metadata": {},
   "outputs": [
    {
     "data": {
      "text/plain": [
       "list"
      ]
     },
     "execution_count": 19,
     "metadata": {},
     "output_type": "execute_result"
    }
   ],
   "source": [
    "type(list(arr))"
   ]
  },
  {
   "cell_type": "code",
   "execution_count": 20,
   "id": "931ec432",
   "metadata": {},
   "outputs": [
    {
     "data": {
      "text/plain": [
       "[1, 2, 3]"
      ]
     },
     "execution_count": 20,
     "metadata": {},
     "output_type": "execute_result"
    }
   ],
   "source": [
    "s={1,2,3}\n",
    "\n",
    "list(s)"
   ]
  },
  {
   "cell_type": "code",
   "execution_count": 21,
   "id": "fe5c57c2",
   "metadata": {},
   "outputs": [
    {
     "data": {
      "text/plain": [
       "(1, 2, 3)"
      ]
     },
     "execution_count": 21,
     "metadata": {},
     "output_type": "execute_result"
    }
   ],
   "source": [
    "tuple(s)"
   ]
  },
  {
   "cell_type": "code",
   "execution_count": 22,
   "id": "176a7b14",
   "metadata": {},
   "outputs": [
    {
     "data": {
      "text/plain": [
       "[1, 2, 3]"
      ]
     },
     "execution_count": 22,
     "metadata": {},
     "output_type": "execute_result"
    }
   ],
   "source": [
    "l=[1,2,3]\n",
    "\n",
    "arr=[1,2,3]\n",
    "\n",
    "arr"
   ]
  },
  {
   "cell_type": "code",
   "execution_count": 24,
   "id": "f655f658",
   "metadata": {},
   "outputs": [
    {
     "data": {
      "text/plain": [
       "[1, 2, 3, 1, 2, 3]"
      ]
     },
     "execution_count": 24,
     "metadata": {},
     "output_type": "execute_result"
    }
   ],
   "source": [
    "arr*2\n"
   ]
  },
  {
   "cell_type": "code",
   "execution_count": 25,
   "id": "06487f17",
   "metadata": {},
   "outputs": [
    {
     "data": {
      "text/plain": [
       "[1, 2, 3, 1, 2, 3]"
      ]
     },
     "execution_count": 25,
     "metadata": {},
     "output_type": "execute_result"
    }
   ],
   "source": [
    "\n",
    "arr=[1,2,3]\n",
    "arr*2"
   ]
  },
  {
   "cell_type": "code",
   "execution_count": 26,
   "id": "8d760438",
   "metadata": {},
   "outputs": [
    {
     "data": {
      "text/plain": [
       "array([ 1.  ,  2.  ,  3.45, 89.  ,  2.  ])"
      ]
     },
     "execution_count": 26,
     "metadata": {},
     "output_type": "execute_result"
    }
   ],
   "source": [
    "ar2=[1,2,3.45,89,2]\n",
    "np_ar=np.array(ar2)\n",
    "\n",
    "np_ar"
   ]
  },
  {
   "cell_type": "code",
   "execution_count": 27,
   "id": "3bc19814",
   "metadata": {},
   "outputs": [
    {
     "data": {
      "text/plain": [
       "array([ 1.  ,  2.  ,  3.45, 89.  ,  2.  , 78.  ])"
      ]
     },
     "execution_count": 27,
     "metadata": {},
     "output_type": "execute_result"
    }
   ],
   "source": [
    "new_ar=np.append(np_ar,78)\n",
    "new_ar"
   ]
  },
  {
   "cell_type": "code",
   "execution_count": 28,
   "id": "81970196",
   "metadata": {},
   "outputs": [
    {
     "data": {
      "text/plain": [
       "array([ 1.  ,  2.  ,  3.45, 89.  ,  2.  , 56.  , 33.  , 35.  ])"
      ]
     },
     "execution_count": 28,
     "metadata": {},
     "output_type": "execute_result"
    }
   ],
   "source": [
    "#to add multiple values\n",
    "new_ar=np.append(np_ar,[56,33,35])\n",
    "new_ar"
   ]
  },
  {
   "cell_type": "code",
   "execution_count": 48,
   "id": "967a4555",
   "metadata": {},
   "outputs": [
    {
     "data": {
      "text/plain": [
       "array([  1.  ,   2.  , 123.  ,   3.45,  89.  ,   2.  ])"
      ]
     },
     "execution_count": 48,
     "metadata": {},
     "output_type": "execute_result"
    }
   ],
   "source": [
    "#insert\n",
    "#based on index value to add ele into array\n",
    "#np.insert(array_to_be_modified,index position,value)\n",
    "new_ar=np.insert(np_ar,2,123)\n",
    "new_ar\n"
   ]
  },
  {
   "cell_type": "code",
   "execution_count": 31,
   "id": "7ae28526",
   "metadata": {},
   "outputs": [
    {
     "data": {
      "text/plain": [
       "array([ 2.  ,  3.45, 89.  ,  2.  ])"
      ]
     },
     "execution_count": 31,
     "metadata": {},
     "output_type": "execute_result"
    }
   ],
   "source": [
    "#delete ele from an array\n",
    "nr=np.delete(np_ar,np.where(np_ar==1))\n",
    "nr"
   ]
  },
  {
   "cell_type": "code",
   "execution_count": 32,
   "id": "8eb6d499",
   "metadata": {},
   "outputs": [
    {
     "data": {
      "text/plain": [
       "array([ 1.,  2., 89.])"
      ]
     },
     "execution_count": 32,
     "metadata": {},
     "output_type": "execute_result"
    }
   ],
   "source": [
    "#to del no of values in array\n",
    "nr=np.setdiff1d(np_ar,[5.0,3.45])\n",
    "nr"
   ]
  },
  {
   "cell_type": "code",
   "execution_count": 33,
   "id": "4d47f57b",
   "metadata": {},
   "outputs": [
    {
     "data": {
      "text/plain": [
       "array([ 2.  ,  3.45, 89.  ,  2.  ])"
      ]
     },
     "execution_count": 33,
     "metadata": {},
     "output_type": "execute_result"
    }
   ],
   "source": [
    "#to delete based on index pos\n",
    "nr=np.delete(np_ar,0)\n",
    "nr\n"
   ]
  },
  {
   "cell_type": "code",
   "execution_count": 36,
   "id": "3f908260",
   "metadata": {},
   "outputs": [
    {
     "data": {
      "text/plain": [
       "array([ True,  True, False,  True, False,  True])"
      ]
     },
     "execution_count": 36,
     "metadata": {},
     "output_type": "execute_result"
    }
   ],
   "source": [
    "#filter in numpy array\n",
    "new_ar<30"
   ]
  },
  {
   "cell_type": "code",
   "execution_count": 38,
   "id": "58dd1167",
   "metadata": {},
   "outputs": [
    {
     "data": {
      "text/plain": [
       "array([1.  , 2.  , 3.45, 2.  ])"
      ]
     },
     "execution_count": 38,
     "metadata": {},
     "output_type": "execute_result"
    }
   ],
   "source": [
    "new_ar[new_ar<30]"
   ]
  },
  {
   "cell_type": "code",
   "execution_count": 39,
   "id": "d9d4daaa",
   "metadata": {},
   "outputs": [
    {
     "data": {
      "text/plain": [
       "array([False, False, False, False, False, False])"
      ]
     },
     "execution_count": 39,
     "metadata": {},
     "output_type": "execute_result"
    }
   ],
   "source": [
    "#to print values <20 and >50\n",
    "#for and operation using &\n",
    "#for or op using |\n",
    "(new_ar>20) & (new_ar<50)"
   ]
  },
  {
   "cell_type": "code",
   "execution_count": 42,
   "id": "ffd1b097",
   "metadata": {},
   "outputs": [
    {
     "ename": "TypeError",
     "evalue": "'>' not supported between instances of 'list' and 'int'",
     "output_type": "error",
     "traceback": [
      "\u001b[1;31m---------------------------------------------------------------------------\u001b[0m",
      "\u001b[1;31mTypeError\u001b[0m                                 Traceback (most recent call last)",
      "Cell \u001b[1;32mIn[42], line 1\u001b[0m\n\u001b[1;32m----> 1\u001b[0m new_ar[(new_ar\u001b[38;5;241m>\u001b[39m\u001b[38;5;241m20\u001b[39m)\u001b[38;5;241m&\u001b[39m(new_ar\u001b[38;5;241m<\u001b[39m\u001b[38;5;241m50\u001b[39m)]\n",
      "\u001b[1;31mTypeError\u001b[0m: '>' not supported between instances of 'list' and 'int'"
     ]
    }
   ],
   "source": [
    "new_ar[(new_ar>20)&(new_ar<50)]"
   ]
  },
  {
   "cell_type": "code",
   "execution_count": 49,
   "id": "4674d04c",
   "metadata": {},
   "outputs": [
    {
     "data": {
      "text/plain": [
       "array([  1.  ,   2.  , 123.  ,   3.45,  89.  ,   2.  ])"
      ]
     },
     "execution_count": 49,
     "metadata": {},
     "output_type": "execute_result"
    }
   ],
   "source": [
    "new_ar"
   ]
  },
  {
   "cell_type": "code",
   "execution_count": 50,
   "id": "93140212",
   "metadata": {},
   "outputs": [
    {
     "data": {
      "text/plain": [
       "array([  1.,   2., 123.,  56.,  89.,   2.])"
      ]
     },
     "execution_count": 50,
     "metadata": {},
     "output_type": "execute_result"
    }
   ],
   "source": [
    "#to replace value in array\n",
    "new_ar[new_ar==3.45]=56\n",
    "\n",
    "new_ar"
   ]
  },
  {
   "cell_type": "code",
   "execution_count": 51,
   "id": "39f1db48",
   "metadata": {},
   "outputs": [
    {
     "data": {
      "text/plain": [
       "array([0., 0., 0., 0., 0., 0.])"
      ]
     },
     "execution_count": 51,
     "metadata": {},
     "output_type": "execute_result"
    }
   ],
   "source": [
    "#to create 1d array full of 0\n",
    "np.zeros(6)\n"
   ]
  },
  {
   "cell_type": "code",
   "execution_count": 52,
   "id": "7257de4a",
   "metadata": {},
   "outputs": [
    {
     "data": {
      "text/plain": [
       "array([[0., 0.],\n",
       "       [0., 0.]])"
      ]
     },
     "execution_count": 52,
     "metadata": {},
     "output_type": "execute_result"
    }
   ],
   "source": [
    "#to create 2d array full of 0\n",
    "#syntax=np.zeros([no of rows,no of col])\n",
    "np.zeros([2,2])\n"
   ]
  },
  {
   "cell_type": "code",
   "execution_count": 53,
   "id": "956e9c46",
   "metadata": {},
   "outputs": [
    {
     "data": {
      "text/plain": [
       "array([  1.,   2., 123.,  56.,  89.,   2.])"
      ]
     },
     "execution_count": 53,
     "metadata": {},
     "output_type": "execute_result"
    }
   ],
   "source": [
    "#to create array full of 1\n",
    "np.ones(6)\n",
    "\n",
    "new_ar\n"
   ]
  },
  {
   "cell_type": "code",
   "execution_count": 54,
   "id": "71cb5432",
   "metadata": {},
   "outputs": [
    {
     "data": {
      "text/plain": [
       "array([[1., 1., 1., 1.],\n",
       "       [1., 1., 1., 1.],\n",
       "       [1., 1., 1., 1.]])"
      ]
     },
     "execution_count": 54,
     "metadata": {},
     "output_type": "execute_result"
    }
   ],
   "source": [
    "#to create 2d array full of 1\n",
    "np.ones([3,4])"
   ]
  },
  {
   "cell_type": "code",
   "execution_count": 55,
   "id": "4a36c0f7",
   "metadata": {},
   "outputs": [
    {
     "data": {
      "text/plain": [
       "dtype('float64')"
      ]
     },
     "execution_count": 55,
     "metadata": {},
     "output_type": "execute_result"
    }
   ],
   "source": [
    "#type convert ele in array\n",
    "#to find numpy data type of ele present in array-->dtype\n",
    "#type(np_ar)\n",
    "np_ar.dtype"
   ]
  },
  {
   "cell_type": "code",
   "execution_count": 56,
   "id": "8f18322a",
   "metadata": {},
   "outputs": [
    {
     "data": {
      "text/plain": [
       "array([[0, 0, 0, 0],\n",
       "       [0, 0, 0, 0]], dtype=int16)"
      ]
     },
     "execution_count": 56,
     "metadata": {},
     "output_type": "execute_result"
    }
   ],
   "source": [
    "#we can convert values in numpy array into various bits\n",
    "#they are\n",
    "#int8,int16,int32,int64\n",
    "#float16,float32,float64\n",
    "#complex64,complex128\n",
    "#unit16,unit32\n",
    "\n",
    "np_ar=np.zeros([2,4],dtype='int16')\n",
    "np_ar"
   ]
  },
  {
   "cell_type": "code",
   "execution_count": 57,
   "id": "5d3f863f",
   "metadata": {},
   "outputs": [
    {
     "data": {
      "text/plain": [
       "array([[0, 0, 0, 0],\n",
       "       [0, 0, 0, 0]], dtype=uint32)"
      ]
     },
     "execution_count": 57,
     "metadata": {},
     "output_type": "execute_result"
    }
   ],
   "source": [
    "np_ar=np.zeros([2,4],dtype='uint32')\n",
    "np_ar\n"
   ]
  },
  {
   "cell_type": "code",
   "execution_count": 58,
   "id": "8e16522e",
   "metadata": {},
   "outputs": [
    {
     "data": {
      "text/plain": [
       "array([[0, 0, 0, 0],\n",
       "       [0, 0, 0, 0]], dtype=int16)"
      ]
     },
     "execution_count": 58,
     "metadata": {},
     "output_type": "execute_result"
    }
   ],
   "source": [
    "np.int16(np_ar)"
   ]
  },
  {
   "cell_type": "code",
   "execution_count": null,
   "id": "83252a5b",
   "metadata": {},
   "outputs": [],
   "source": []
  }
 ],
 "metadata": {
  "kernelspec": {
   "display_name": "Python 3 (ipykernel)",
   "language": "python",
   "name": "python3"
  },
  "language_info": {
   "codemirror_mode": {
    "name": "ipython",
    "version": 3
   },
   "file_extension": ".py",
   "mimetype": "text/x-python",
   "name": "python",
   "nbconvert_exporter": "python",
   "pygments_lexer": "ipython3",
   "version": "3.11.5"
  }
 },
 "nbformat": 4,
 "nbformat_minor": 5
}
